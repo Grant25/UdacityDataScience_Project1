{
 "cells": [
  {
   "cell_type": "code",
   "execution_count": 1,
   "metadata": {},
   "outputs": [],
   "source": [
    "# Udacity Data Science NanoDegree: Introduction to Data Science\n",
    "# Project 1: Write a DataScience Blog\n",
    "# Date of Analysis: 13 APR 2021\n",
    "\n",
    "# Analysis of Stackoverflow 2017 Survey Data\n",
    "\n",
    "# We will use the CRISP-DM process - each step is commented in code"
   ]
  },
  {
   "cell_type": "code",
   "execution_count": 2,
   "metadata": {},
   "outputs": [],
   "source": [
    "# Business Understanding\n",
    "\n",
    "# The Business Questions we will seek to answer in this project are:\n",
    "\n",
    "# 1. Are those in the field looking for new work?\n",
    "# 2. What are the different ways of working for those within the field of Data Science, and does it bring Satisfaction?\n",
    "# 3. Does the education of the Parent relate to the respondent's education and consequently their salary?"
   ]
  },
  {
   "cell_type": "code",
   "execution_count": 3,
   "metadata": {},
   "outputs": [],
   "source": [
    "# The Business Questions will be answered with the following data taken from the Stackoverflow 2017 Survey Data\n",
    "\n",
    "#Q1: Utilise, JobSeekingStatus to understand if Respondents are currently looking for a new job. Summarise responses, \n",
    "## and compare to HoursPerWeek - this will demonstrare how much time a respondent is putting into finding a new job\n",
    "## Understand if this is realted to the Salary the persons is earning. Consider also ImportantBenefits if possible\n",
    "\n",
    "#Q2: Utilise either HomeRemote or Methodology fields. The HomeRemote field would be of interest along with HoursPerWeek\n",
    "## Are those that are working from home spending more time looking for new work? Utilise also Satisfaction fields\n",
    "\n",
    "#Q3: Discover if there is a relationship between Parental Education and Respondent Education - within the data there are\n",
    "## the fields: HighestEducationParents and FormalEducation. Display this visually in a crosstab - maybe a heatmap? \n",
    "## Compare also the Respondent Salary and the Education level of the parent - does better education of parents lead to higher salaries?"
   ]
  },
  {
   "cell_type": "code",
   "execution_count": null,
   "metadata": {},
   "outputs": [],
   "source": []
  },
  {
   "cell_type": "code",
   "execution_count": 4,
   "metadata": {},
   "outputs": [],
   "source": [
    "# Data Understanding\n",
    "\n",
    "# Here we will access and explore the data \n",
    "\n",
    "# get packages for the project - import pandas and numpy as well as visualisation\n",
    "import pandas as pd\n",
    "import numpy as np\n",
    "import matplotlib.pyplot as plt\n",
    "import seaborn as sns\n",
    "\n",
    "%matplotlib inline"
   ]
  },
  {
   "cell_type": "code",
   "execution_count": 5,
   "metadata": {},
   "outputs": [
    {
     "data": {
      "text/html": [
       "<div>\n",
       "<style scoped>\n",
       "    .dataframe tbody tr th:only-of-type {\n",
       "        vertical-align: middle;\n",
       "    }\n",
       "\n",
       "    .dataframe tbody tr th {\n",
       "        vertical-align: top;\n",
       "    }\n",
       "\n",
       "    .dataframe thead th {\n",
       "        text-align: right;\n",
       "    }\n",
       "</style>\n",
       "<table border=\"1\" class=\"dataframe\">\n",
       "  <thead>\n",
       "    <tr style=\"text-align: right;\">\n",
       "      <th></th>\n",
       "      <th>Respondent</th>\n",
       "      <th>Professional</th>\n",
       "      <th>ProgramHobby</th>\n",
       "      <th>Country</th>\n",
       "      <th>University</th>\n",
       "      <th>EmploymentStatus</th>\n",
       "      <th>FormalEducation</th>\n",
       "      <th>MajorUndergrad</th>\n",
       "      <th>HomeRemote</th>\n",
       "      <th>CompanySize</th>\n",
       "      <th>...</th>\n",
       "      <th>StackOverflowMakeMoney</th>\n",
       "      <th>Gender</th>\n",
       "      <th>HighestEducationParents</th>\n",
       "      <th>Race</th>\n",
       "      <th>SurveyLong</th>\n",
       "      <th>QuestionsInteresting</th>\n",
       "      <th>QuestionsConfusing</th>\n",
       "      <th>InterestedAnswers</th>\n",
       "      <th>Salary</th>\n",
       "      <th>ExpectedSalary</th>\n",
       "    </tr>\n",
       "  </thead>\n",
       "  <tbody>\n",
       "    <tr>\n",
       "      <th>0</th>\n",
       "      <td>1</td>\n",
       "      <td>Student</td>\n",
       "      <td>Yes, both</td>\n",
       "      <td>United States</td>\n",
       "      <td>No</td>\n",
       "      <td>Not employed, and not looking for work</td>\n",
       "      <td>Secondary school</td>\n",
       "      <td>NaN</td>\n",
       "      <td>NaN</td>\n",
       "      <td>NaN</td>\n",
       "      <td>...</td>\n",
       "      <td>Strongly disagree</td>\n",
       "      <td>Male</td>\n",
       "      <td>High school</td>\n",
       "      <td>White or of European descent</td>\n",
       "      <td>Strongly disagree</td>\n",
       "      <td>Strongly agree</td>\n",
       "      <td>Disagree</td>\n",
       "      <td>Strongly agree</td>\n",
       "      <td>NaN</td>\n",
       "      <td>NaN</td>\n",
       "    </tr>\n",
       "    <tr>\n",
       "      <th>1</th>\n",
       "      <td>2</td>\n",
       "      <td>Student</td>\n",
       "      <td>Yes, both</td>\n",
       "      <td>United Kingdom</td>\n",
       "      <td>Yes, full-time</td>\n",
       "      <td>Employed part-time</td>\n",
       "      <td>Some college/university study without earning ...</td>\n",
       "      <td>Computer science or software engineering</td>\n",
       "      <td>More than half, but not all, the time</td>\n",
       "      <td>20 to 99 employees</td>\n",
       "      <td>...</td>\n",
       "      <td>Strongly disagree</td>\n",
       "      <td>Male</td>\n",
       "      <td>A master's degree</td>\n",
       "      <td>White or of European descent</td>\n",
       "      <td>Somewhat agree</td>\n",
       "      <td>Somewhat agree</td>\n",
       "      <td>Disagree</td>\n",
       "      <td>Strongly agree</td>\n",
       "      <td>NaN</td>\n",
       "      <td>37500.0</td>\n",
       "    </tr>\n",
       "    <tr>\n",
       "      <th>2</th>\n",
       "      <td>3</td>\n",
       "      <td>Professional developer</td>\n",
       "      <td>Yes, both</td>\n",
       "      <td>United Kingdom</td>\n",
       "      <td>No</td>\n",
       "      <td>Employed full-time</td>\n",
       "      <td>Bachelor's degree</td>\n",
       "      <td>Computer science or software engineering</td>\n",
       "      <td>Less than half the time, but at least one day ...</td>\n",
       "      <td>10,000 or more employees</td>\n",
       "      <td>...</td>\n",
       "      <td>Disagree</td>\n",
       "      <td>Male</td>\n",
       "      <td>A professional degree</td>\n",
       "      <td>White or of European descent</td>\n",
       "      <td>Somewhat agree</td>\n",
       "      <td>Agree</td>\n",
       "      <td>Disagree</td>\n",
       "      <td>Agree</td>\n",
       "      <td>113750.0</td>\n",
       "      <td>NaN</td>\n",
       "    </tr>\n",
       "    <tr>\n",
       "      <th>3</th>\n",
       "      <td>4</td>\n",
       "      <td>Professional non-developer who sometimes write...</td>\n",
       "      <td>Yes, both</td>\n",
       "      <td>United States</td>\n",
       "      <td>No</td>\n",
       "      <td>Employed full-time</td>\n",
       "      <td>Doctoral degree</td>\n",
       "      <td>A non-computer-focused engineering discipline</td>\n",
       "      <td>Less than half the time, but at least one day ...</td>\n",
       "      <td>10,000 or more employees</td>\n",
       "      <td>...</td>\n",
       "      <td>Disagree</td>\n",
       "      <td>Male</td>\n",
       "      <td>A doctoral degree</td>\n",
       "      <td>White or of European descent</td>\n",
       "      <td>Agree</td>\n",
       "      <td>Agree</td>\n",
       "      <td>Somewhat agree</td>\n",
       "      <td>Strongly agree</td>\n",
       "      <td>NaN</td>\n",
       "      <td>NaN</td>\n",
       "    </tr>\n",
       "    <tr>\n",
       "      <th>4</th>\n",
       "      <td>5</td>\n",
       "      <td>Professional developer</td>\n",
       "      <td>Yes, I program as a hobby</td>\n",
       "      <td>Switzerland</td>\n",
       "      <td>No</td>\n",
       "      <td>Employed full-time</td>\n",
       "      <td>Master's degree</td>\n",
       "      <td>Computer science or software engineering</td>\n",
       "      <td>Never</td>\n",
       "      <td>10 to 19 employees</td>\n",
       "      <td>...</td>\n",
       "      <td>NaN</td>\n",
       "      <td>NaN</td>\n",
       "      <td>NaN</td>\n",
       "      <td>NaN</td>\n",
       "      <td>NaN</td>\n",
       "      <td>NaN</td>\n",
       "      <td>NaN</td>\n",
       "      <td>NaN</td>\n",
       "      <td>NaN</td>\n",
       "      <td>NaN</td>\n",
       "    </tr>\n",
       "  </tbody>\n",
       "</table>\n",
       "<p>5 rows × 154 columns</p>\n",
       "</div>"
      ],
      "text/plain": [
       "   Respondent                                       Professional  \\\n",
       "0           1                                            Student   \n",
       "1           2                                            Student   \n",
       "2           3                             Professional developer   \n",
       "3           4  Professional non-developer who sometimes write...   \n",
       "4           5                             Professional developer   \n",
       "\n",
       "                ProgramHobby         Country      University  \\\n",
       "0                  Yes, both   United States              No   \n",
       "1                  Yes, both  United Kingdom  Yes, full-time   \n",
       "2                  Yes, both  United Kingdom              No   \n",
       "3                  Yes, both   United States              No   \n",
       "4  Yes, I program as a hobby     Switzerland              No   \n",
       "\n",
       "                         EmploymentStatus  \\\n",
       "0  Not employed, and not looking for work   \n",
       "1                      Employed part-time   \n",
       "2                      Employed full-time   \n",
       "3                      Employed full-time   \n",
       "4                      Employed full-time   \n",
       "\n",
       "                                     FormalEducation  \\\n",
       "0                                   Secondary school   \n",
       "1  Some college/university study without earning ...   \n",
       "2                                  Bachelor's degree   \n",
       "3                                    Doctoral degree   \n",
       "4                                    Master's degree   \n",
       "\n",
       "                                  MajorUndergrad  \\\n",
       "0                                            NaN   \n",
       "1       Computer science or software engineering   \n",
       "2       Computer science or software engineering   \n",
       "3  A non-computer-focused engineering discipline   \n",
       "4       Computer science or software engineering   \n",
       "\n",
       "                                          HomeRemote  \\\n",
       "0                                                NaN   \n",
       "1              More than half, but not all, the time   \n",
       "2  Less than half the time, but at least one day ...   \n",
       "3  Less than half the time, but at least one day ...   \n",
       "4                                              Never   \n",
       "\n",
       "                CompanySize  ... StackOverflowMakeMoney Gender  \\\n",
       "0                       NaN  ...      Strongly disagree   Male   \n",
       "1        20 to 99 employees  ...      Strongly disagree   Male   \n",
       "2  10,000 or more employees  ...               Disagree   Male   \n",
       "3  10,000 or more employees  ...               Disagree   Male   \n",
       "4        10 to 19 employees  ...                    NaN    NaN   \n",
       "\n",
       "  HighestEducationParents                          Race         SurveyLong  \\\n",
       "0             High school  White or of European descent  Strongly disagree   \n",
       "1       A master's degree  White or of European descent     Somewhat agree   \n",
       "2   A professional degree  White or of European descent     Somewhat agree   \n",
       "3       A doctoral degree  White or of European descent              Agree   \n",
       "4                     NaN                           NaN                NaN   \n",
       "\n",
       "  QuestionsInteresting QuestionsConfusing InterestedAnswers    Salary  \\\n",
       "0       Strongly agree           Disagree    Strongly agree       NaN   \n",
       "1       Somewhat agree           Disagree    Strongly agree       NaN   \n",
       "2                Agree           Disagree             Agree  113750.0   \n",
       "3                Agree     Somewhat agree    Strongly agree       NaN   \n",
       "4                  NaN                NaN               NaN       NaN   \n",
       "\n",
       "   ExpectedSalary  \n",
       "0             NaN  \n",
       "1         37500.0  \n",
       "2             NaN  \n",
       "3             NaN  \n",
       "4             NaN  \n",
       "\n",
       "[5 rows x 154 columns]"
      ]
     },
     "execution_count": 5,
     "metadata": {},
     "output_type": "execute_result"
    }
   ],
   "source": [
    "#import the data and check the head - how does it look?\n",
    "df_public= pd.read_csv(\"survey_results_public.csv\")\n",
    "\n",
    "df_public.head(5)"
   ]
  },
  {
   "cell_type": "code",
   "execution_count": 6,
   "metadata": {},
   "outputs": [
    {
     "name": "stdout",
     "output_type": "stream",
     "text": [
      "(51392, 154)\n",
      "['Respondent', 'Professional', 'ProgramHobby', 'Country', 'University', 'EmploymentStatus', 'FormalEducation', 'MajorUndergrad', 'HomeRemote', 'CompanySize', 'CompanyType', 'YearsProgram', 'YearsCodedJob', 'YearsCodedJobPast', 'DeveloperType', 'WebDeveloperType', 'MobileDeveloperType', 'NonDeveloperType', 'CareerSatisfaction', 'JobSatisfaction', 'ExCoderReturn', 'ExCoderNotForMe', 'ExCoderBalance', 'ExCoder10Years', 'ExCoderBelonged', 'ExCoderSkills', 'ExCoderWillNotCode', 'ExCoderActive', 'PronounceGIF', 'ProblemSolving', 'BuildingThings', 'LearningNewTech', 'BoringDetails', 'JobSecurity', 'DiversityImportant', 'AnnoyingUI', 'FriendsDevelopers', 'RightWrongWay', 'UnderstandComputers', 'SeriousWork', 'InvestTimeTools', 'WorkPayCare', 'KinshipDevelopers', 'ChallengeMyself', 'CompetePeers', 'ChangeWorld', 'JobSeekingStatus', 'HoursPerWeek', 'LastNewJob', 'AssessJobIndustry', 'AssessJobRole', 'AssessJobExp', 'AssessJobDept', 'AssessJobTech', 'AssessJobProjects', 'AssessJobCompensation', 'AssessJobOffice', 'AssessJobCommute', 'AssessJobRemote', 'AssessJobLeaders', 'AssessJobProfDevel', 'AssessJobDiversity', 'AssessJobProduct', 'AssessJobFinances', 'ImportantBenefits', 'ClickyKeys', 'JobProfile', 'ResumePrompted', 'LearnedHiring', 'ImportantHiringAlgorithms', 'ImportantHiringTechExp', 'ImportantHiringCommunication', 'ImportantHiringOpenSource', 'ImportantHiringPMExp', 'ImportantHiringCompanies', 'ImportantHiringTitles', 'ImportantHiringEducation', 'ImportantHiringRep', 'ImportantHiringGettingThingsDone', 'Currency', 'Overpaid', 'TabsSpaces', 'EducationImportant', 'EducationTypes', 'SelfTaughtTypes', 'TimeAfterBootcamp', 'CousinEducation', 'WorkStart', 'HaveWorkedLanguage', 'WantWorkLanguage', 'HaveWorkedFramework', 'WantWorkFramework', 'HaveWorkedDatabase', 'WantWorkDatabase', 'HaveWorkedPlatform', 'WantWorkPlatform', 'IDE', 'AuditoryEnvironment', 'Methodology', 'VersionControl', 'CheckInCode', 'ShipIt', 'OtherPeoplesCode', 'ProjectManagement', 'EnjoyDebugging', 'InTheZone', 'DifficultCommunication', 'CollaborateRemote', 'MetricAssess', 'EquipmentSatisfiedMonitors', 'EquipmentSatisfiedCPU', 'EquipmentSatisfiedRAM', 'EquipmentSatisfiedStorage', 'EquipmentSatisfiedRW', 'InfluenceInternet', 'InfluenceWorkstation', 'InfluenceHardware', 'InfluenceServers', 'InfluenceTechStack', 'InfluenceDeptTech', 'InfluenceVizTools', 'InfluenceDatabase', 'InfluenceCloud', 'InfluenceConsultants', 'InfluenceRecruitment', 'InfluenceCommunication', 'StackOverflowDescribes', 'StackOverflowSatisfaction', 'StackOverflowDevices', 'StackOverflowFoundAnswer', 'StackOverflowCopiedCode', 'StackOverflowJobListing', 'StackOverflowCompanyPage', 'StackOverflowJobSearch', 'StackOverflowNewQuestion', 'StackOverflowAnswer', 'StackOverflowMetaChat', 'StackOverflowAdsRelevant', 'StackOverflowAdsDistracting', 'StackOverflowModeration', 'StackOverflowCommunity', 'StackOverflowHelpful', 'StackOverflowBetter', 'StackOverflowWhatDo', 'StackOverflowMakeMoney', 'Gender', 'HighestEducationParents', 'Race', 'SurveyLong', 'QuestionsInteresting', 'QuestionsConfusing', 'InterestedAnswers', 'Salary', 'ExpectedSalary']\n"
     ]
    }
   ],
   "source": [
    "# gain size and shape of the dataframe\n",
    "print(df_public.shape)\n",
    "\n",
    "# gain list of all columns in the dataframe and identify fields required\n",
    "print(df_public.columns.tolist())\n"
   ]
  },
  {
   "cell_type": "code",
   "execution_count": 7,
   "metadata": {},
   "outputs": [
    {
     "name": "stdout",
     "output_type": "stream",
     "text": [
      "I'm not actively looking, but I am open to new opportunities    0.621001\n",
      "I am not interested in new job opportunities                    0.248053\n",
      "I am actively looking for a job                                 0.130947\n",
      "Name: JobSeekingStatus, dtype: float64\n",
      "Missing cases: 18012\n",
      "Complete cases: 33380\n",
      "Percent Missing: 0.35048256537982564\n"
     ]
    }
   ],
   "source": [
    "# Data Preparation\n",
    "\n",
    "## Q1 - Are those in the field actually looking for new work?\n",
    "\n",
    "## Investigate fields identifed to answer questions, unuderstand missing entries and impute if required\n",
    "\n",
    "# what values are contained within the JobSeekingStatus field?\n",
    "print(df_public['JobSeekingStatus'].value_counts()/np.sum(df_public['JobSeekingStatus'].notnull()))\n",
    "\n",
    "# check for missing values - how complete is this field?\n",
    "print(\"Missing cases: \" +str(df_public['JobSeekingStatus'].isna().sum()))\n",
    "print(\"Complete cases: \" + str(np.sum(df_public['JobSeekingStatus'].notnull())))\n",
    "print(\"Percent Missing: \" +str(df_public['JobSeekingStatus'].isna().sum()/len(df_public['JobSeekingStatus'])))\n",
    "\n",
    "# add a 'Missing' entry - this will help determine if differences are genuine when comparing metrics\n",
    "df_public['JobSeekingStatus']=df_public[['JobSeekingStatus']].fillna(value='Missing')\n"
   ]
  },
  {
   "cell_type": "code",
   "execution_count": 8,
   "metadata": {},
   "outputs": [
    {
     "data": {
      "text/html": [
       "<div>\n",
       "<style scoped>\n",
       "    .dataframe tbody tr th:only-of-type {\n",
       "        vertical-align: middle;\n",
       "    }\n",
       "\n",
       "    .dataframe tbody tr th {\n",
       "        vertical-align: top;\n",
       "    }\n",
       "\n",
       "    .dataframe thead th {\n",
       "        text-align: right;\n",
       "    }\n",
       "</style>\n",
       "<table border=\"1\" class=\"dataframe\">\n",
       "  <thead>\n",
       "    <tr style=\"text-align: right;\">\n",
       "      <th></th>\n",
       "      <th>JobSeekingStatus</th>\n",
       "      <th>Respondent</th>\n",
       "      <th>HoursPerWeek</th>\n",
       "      <th>Salary</th>\n",
       "    </tr>\n",
       "  </thead>\n",
       "  <tbody>\n",
       "    <tr>\n",
       "      <th>0</th>\n",
       "      <td>I am actively looking for a job</td>\n",
       "      <td>4371</td>\n",
       "      <td>8.241832</td>\n",
       "      <td>46466.057258</td>\n",
       "    </tr>\n",
       "    <tr>\n",
       "      <th>1</th>\n",
       "      <td>I'm not actively looking, but I am open to new...</td>\n",
       "      <td>20729</td>\n",
       "      <td>2.857570</td>\n",
       "      <td>55157.846599</td>\n",
       "    </tr>\n",
       "    <tr>\n",
       "      <th>2</th>\n",
       "      <td>I am not interested in new job opportunities</td>\n",
       "      <td>8280</td>\n",
       "      <td>1.925926</td>\n",
       "      <td>65796.241218</td>\n",
       "    </tr>\n",
       "    <tr>\n",
       "      <th>3</th>\n",
       "      <td>Missing</td>\n",
       "      <td>18012</td>\n",
       "      <td>NaN</td>\n",
       "      <td>54527.639283</td>\n",
       "    </tr>\n",
       "  </tbody>\n",
       "</table>\n",
       "</div>"
      ],
      "text/plain": [
       "                                    JobSeekingStatus  Respondent  \\\n",
       "0                    I am actively looking for a job        4371   \n",
       "1  I'm not actively looking, but I am open to new...       20729   \n",
       "2       I am not interested in new job opportunities        8280   \n",
       "3                                            Missing       18012   \n",
       "\n",
       "   HoursPerWeek        Salary  \n",
       "0      8.241832  46466.057258  \n",
       "1      2.857570  55157.846599  \n",
       "2      1.925926  65796.241218  \n",
       "3           NaN  54527.639283  "
      ]
     },
     "execution_count": 8,
     "metadata": {},
     "output_type": "execute_result"
    }
   ],
   "source": [
    "## use the prepared data to sumarise and present\n",
    "\n",
    "# use the group by function to create a summary - add count of Respondents in each group, and mean of HoursPerWeek and Salary\n",
    "df_jobseek=df_public.groupby(\"JobSeekingStatus\").agg({'Respondent':'count','HoursPerWeek':'mean', 'Salary':'mean'}).sort_values(by='HoursPerWeek', ascending=False).reset_index()\n",
    "df_jobseek"
   ]
  },
  {
   "cell_type": "code",
   "execution_count": 9,
   "metadata": {},
   "outputs": [
    {
     "data": {
      "text/plain": [
       "Index(['JobSeekingStatus', 'Respondent', 'HoursPerWeek', 'Salary'], dtype='object')"
      ]
     },
     "execution_count": 9,
     "metadata": {},
     "output_type": "execute_result"
    }
   ],
   "source": [
    "# check if reset index worked and jobseekingstatus appears as a column\n",
    "df_jobseek.columns"
   ]
  },
  {
   "cell_type": "code",
   "execution_count": 10,
   "metadata": {},
   "outputs": [
    {
     "data": {
      "image/png": "[encoded data removed]",
      "text/plain": [
       "<Figure size 1080x720 with 3 Axes>"
      ]
     },
     "metadata": {
      "needs_background": "light"
     },
     "output_type": "display_data"
    }
   ],
   "source": [
    "### Create a chart consisting of two/three barcharts that are horizontal\n",
    "# use seaborn bar plot and subplot function\n",
    "\n",
    "# create a figure and axes - set the dimensions of the subplot 1 R, 3 C\n",
    "fig, axes = plt.subplots(1, 3, figsize=(15, 10), sharey=True)\n",
    "fig.suptitle('Horizontal bar chart of job seeking status',fontsize=14)\n",
    "\n",
    "# set the first bar - respondents \n",
    "sns.barplot(ax=axes[0], x=df_jobseek['Respondent'], y=df_jobseek['JobSeekingStatus'])\n",
    "axes[0].set_title('Respondent')\n",
    "axes[0].set_ylabel('Job seeking status')\n",
    "\n",
    "# Hours per week \n",
    "sns.barplot(ax=axes[1], x=df_jobseek['HoursPerWeek'], y=df_jobseek['JobSeekingStatus'])\n",
    "axes[1].set_title('Hours per week looking for a job')\n",
    "axes[1].set_ylabel('Job seeking status')\n",
    "\n",
    "# add the salary\n",
    "sns.barplot(ax=axes[2], x=df_jobseek['Salary'], y=df_jobseek['JobSeekingStatus'])\n",
    "axes[2].set_title('Salary')\n",
    "axes[2].set_ylabel('Job seeking status')\n",
    "\n",
    "plt.show()\n"
   ]
  },
  {
   "cell_type": "code",
   "execution_count": 11,
   "metadata": {},
   "outputs": [],
   "source": [
    "# Evaluation \n",
    "\n",
    "# here we evaluate our results for Q1\n",
    "\n",
    "# As expected, those that are actively seeing a new job are also those spending the most amount of time looking for work,\n",
    "# and are being paid the least. The more someone is being paid the less time they spend looking for work"
   ]
  },
  {
   "cell_type": "code",
   "execution_count": 12,
   "metadata": {},
   "outputs": [],
   "source": [
    "# Deployment \n",
    "\n",
    "# how will the results be deployed? We will use the horizontal barchart within the Data Science Blog \n",
    "# it can be saved as a png file and uploaded to Medium. Utilise also the percentages of respondents and response to the Job seeking status question "
   ]
  },
  {
   "cell_type": "code",
   "execution_count": 13,
   "metadata": {},
   "outputs": [],
   "source": [
    "# Q2 - Working from home - check if there is missing data within this variable, and what does this represent of the total?\n",
    "\n",
    "# Business Understanding - stated at top of Notebook\n",
    "# Data Understanding - Data explored at top of notebook\n"
   ]
  },
  {
   "cell_type": "code",
   "execution_count": 14,
   "metadata": {},
   "outputs": [
    {
     "name": "stdout",
     "output_type": "stream",
     "text": [
      "Missing cases: 7384\n",
      "Complete cases: 44008\n",
      "Proportion missing: 14.367995018679949\n"
     ]
    }
   ],
   "source": [
    "# Data preparation\n",
    "\n",
    "# here we will prepare and clense the data - investigate missing entries and impute as required\n",
    "\n",
    "## investigate fields identifed to answer questions, unuderstand missing entries and impute if required\n",
    "print(\"Missing cases: \" + str(df_public['HomeRemote'].isna().sum()))\n",
    "## there are 7384 missing entries\n",
    "\n",
    "print(\"Complete cases: \" + str(np.sum(df_public['HomeRemote'].notnull())))\n",
    "\n",
    "print(\"Proportion missing: \" + str((df_public['HomeRemote'].isna().sum()/len(df_public['HomeRemote'])*100)))\n",
    "## 14% is missing\n",
    "\n",
    "## input the missing value with 'Missing' for reporting and to ensure percentages sum to 1\n",
    "df_public['HomeRemote']=df_public[['HomeRemote']].fillna(value='Missing')"
   ]
  },
  {
   "cell_type": "code",
   "execution_count": 15,
   "metadata": {},
   "outputs": [
    {
     "name": "stdout",
     "output_type": "stream",
     "text": [
      "A few days each month                                      30.070828\n",
      "Never                                                      27.192948\n",
      "Missing                                                    14.367995\n",
      "All or almost all the time (I'm full-time remote)           9.544287\n",
      "Less than half the time, but at least one day each week     8.069349\n",
      "More than half, but not all, the time                       3.714586\n",
      "It's complicated                                            3.597836\n",
      "About half the time                                         3.442170\n",
      "Name: HomeRemote, dtype: float64\n"
     ]
    },
    {
     "data": {
      "text/plain": [
       "Text(0, 0.5, 'Percentage (%) of Respondents')"
      ]
     },
     "execution_count": 15,
     "metadata": {},
     "output_type": "execute_result"
    },
    {
     "data": {
      "image/png": "[encoded data removed]",
      "text/plain": [
       "<Figure size 576x396 with 1 Axes>"
      ]
     },
     "metadata": {},
     "output_type": "display_data"
    }
   ],
   "source": [
    "## Summarise the HomeRemote variable and present graphically\n",
    "\n",
    "## create a series for plotting\n",
    "wfh=df_public['HomeRemote'].value_counts()\n",
    "\n",
    "## gain the proportion with the missing entries populated\n",
    "wfh_props=(wfh/len(df_public['HomeRemote']))*100\n",
    "print(wfh_props)\n",
    "\n",
    "## create an bar chart showing how this is represented\n",
    "plt.style.use('seaborn')\n",
    "wfh_props.plot(kind=\"bar\")\n",
    "plt.title(\"How often do you work from home or remotely?\")\n",
    "plt.ylabel(\"Percentage (%) of Respondents\")"
   ]
  },
  {
   "cell_type": "code",
   "execution_count": 16,
   "metadata": {},
   "outputs": [],
   "source": [
    "## Evaluation\n",
    "\n",
    "## summary and evaluation of Q2a - How/where do respondents spend their time working?\n",
    "\n",
    "# We found that out of the 51,392 responses there were 440048 responses and 7384 missing cases\n",
    "# the missing cases represents 14% of the data, there were recoded to 'missing' for presentation purposes\n",
    "\n",
    "# The highest proportion for remote working was 30%, for 'A few days a month', closely followed by 'Never' at 27%, \n",
    "# these two groups take 57% of respondents answers - home working is not common within respondents\n"
   ]
  },
  {
   "cell_type": "code",
   "execution_count": 17,
   "metadata": {},
   "outputs": [],
   "source": [
    "# Deployment\n",
    "\n",
    "# how will the results be deployed? Use the bar chart showing percentage of respondents. The chart will be saved as a \n",
    "# .png file and used within the BLog post. Within the Medium blog postqQuote statistics for the type of working from\n",
    "# home response that was provided by the respondent "
   ]
  },
  {
   "cell_type": "code",
   "execution_count": 18,
   "metadata": {},
   "outputs": [],
   "source": [
    "## Q2b - for those that responded to the HomeRemote question, are they satisfied? \n",
    "## or do they spend time looking for new Job oportunites? \n",
    "\n",
    "# Business understanding - stated at top of notebook\n",
    "# Data understanding - stated at top of notebook\n"
   ]
  },
  {
   "cell_type": "code",
   "execution_count": 19,
   "metadata": {},
   "outputs": [
    {
     "name": "stdout",
     "output_type": "stream",
     "text": [
      "30792\n",
      "0.599159402241594\n",
      "Complete responses with missing hours dropped: 0\n",
      "count    20600.000000\n",
      "mean         3.952282\n",
      "std          7.564722\n",
      "min          0.000000\n",
      "25%          1.000000\n",
      "50%          1.000000\n",
      "75%          4.000000\n",
      "max         40.000000\n",
      "Name: HoursPerWeek, dtype: float64\n"
     ]
    }
   ],
   "source": [
    "# Data preparation\n",
    "\n",
    "# check for missing values in the Hours Per Week variable, and input if missing\n",
    "print(df_public['HoursPerWeek'].isna().sum())\n",
    "## there are 30,792 missing entries\n",
    "\n",
    "print(df_public['HoursPerWeek'].isna().sum()/len(df_public['HoursPerWeek']))\n",
    "## 59% is missing\n",
    "\n",
    "## check - is mean based on the reponses or inclusive of those that are missing?\n",
    "## drop all cases where the HoursPerWeek is missing and then compare the mean results\n",
    "df_Hoursdropped=df_public.dropna(subset=['HoursPerWeek'])\n",
    "print(\"Complete responses with missing hours dropped: \"+str(df_Hoursdropped['HoursPerWeek'].isna().sum()))\n",
    "\n",
    "print(df_Hoursdropped['HoursPerWeek'].describe())\n",
    "\n",
    "## the describe for both the mean without missing HoursPerWeek dropped and the missing cases retained are the same \n"
   ]
  },
  {
   "cell_type": "code",
   "execution_count": 20,
   "metadata": {},
   "outputs": [
    {
     "data": {
      "text/html": [
       "<div>\n",
       "<style scoped>\n",
       "    .dataframe tbody tr th:only-of-type {\n",
       "        vertical-align: middle;\n",
       "    }\n",
       "\n",
       "    .dataframe tbody tr th {\n",
       "        vertical-align: top;\n",
       "    }\n",
       "\n",
       "    .dataframe thead th {\n",
       "        text-align: right;\n",
       "    }\n",
       "</style>\n",
       "<table border=\"1\" class=\"dataframe\">\n",
       "  <thead>\n",
       "    <tr style=\"text-align: right;\">\n",
       "      <th></th>\n",
       "      <th>HomeRemote</th>\n",
       "      <th>Respondent</th>\n",
       "      <th>HoursPerWeek</th>\n",
       "      <th>CareerSatisfaction</th>\n",
       "      <th>JobSatisfaction</th>\n",
       "    </tr>\n",
       "  </thead>\n",
       "  <tbody>\n",
       "    <tr>\n",
       "      <th>0</th>\n",
       "      <td>Missing</td>\n",
       "      <td>7384</td>\n",
       "      <td>6.496498</td>\n",
       "      <td>7.0</td>\n",
       "      <td>7.0</td>\n",
       "    </tr>\n",
       "    <tr>\n",
       "      <th>1</th>\n",
       "      <td>About half the time</td>\n",
       "      <td>1769</td>\n",
       "      <td>4.951187</td>\n",
       "      <td>8.0</td>\n",
       "      <td>7.0</td>\n",
       "    </tr>\n",
       "    <tr>\n",
       "      <th>2</th>\n",
       "      <td>More than half, but not all, the time</td>\n",
       "      <td>1909</td>\n",
       "      <td>4.882688</td>\n",
       "      <td>8.0</td>\n",
       "      <td>7.0</td>\n",
       "    </tr>\n",
       "    <tr>\n",
       "      <th>3</th>\n",
       "      <td>All or almost all the time (I'm full-time remote)</td>\n",
       "      <td>4905</td>\n",
       "      <td>4.504069</td>\n",
       "      <td>8.0</td>\n",
       "      <td>8.0</td>\n",
       "    </tr>\n",
       "    <tr>\n",
       "      <th>4</th>\n",
       "      <td>Less than half the time, but at least one day ...</td>\n",
       "      <td>4147</td>\n",
       "      <td>3.411154</td>\n",
       "      <td>8.0</td>\n",
       "      <td>7.0</td>\n",
       "    </tr>\n",
       "    <tr>\n",
       "      <th>5</th>\n",
       "      <td>A few days each month</td>\n",
       "      <td>15454</td>\n",
       "      <td>3.295040</td>\n",
       "      <td>8.0</td>\n",
       "      <td>7.0</td>\n",
       "    </tr>\n",
       "    <tr>\n",
       "      <th>6</th>\n",
       "      <td>Never</td>\n",
       "      <td>13975</td>\n",
       "      <td>3.294249</td>\n",
       "      <td>7.0</td>\n",
       "      <td>7.0</td>\n",
       "    </tr>\n",
       "    <tr>\n",
       "      <th>7</th>\n",
       "      <td>It's complicated</td>\n",
       "      <td>1849</td>\n",
       "      <td>2.592838</td>\n",
       "      <td>8.0</td>\n",
       "      <td>7.0</td>\n",
       "    </tr>\n",
       "  </tbody>\n",
       "</table>\n",
       "</div>"
      ],
      "text/plain": [
       "                                          HomeRemote  Respondent  \\\n",
       "0                                            Missing        7384   \n",
       "1                                About half the time        1769   \n",
       "2              More than half, but not all, the time        1909   \n",
       "3  All or almost all the time (I'm full-time remote)        4905   \n",
       "4  Less than half the time, but at least one day ...        4147   \n",
       "5                              A few days each month       15454   \n",
       "6                                              Never       13975   \n",
       "7                                   It's complicated        1849   \n",
       "\n",
       "   HoursPerWeek  CareerSatisfaction  JobSatisfaction  \n",
       "0      6.496498                 7.0              7.0  \n",
       "1      4.951187                 8.0              7.0  \n",
       "2      4.882688                 8.0              7.0  \n",
       "3      4.504069                 8.0              8.0  \n",
       "4      3.411154                 8.0              7.0  \n",
       "5      3.295040                 8.0              7.0  \n",
       "6      3.294249                 7.0              7.0  \n",
       "7      2.592838                 8.0              7.0  "
      ]
     },
     "execution_count": 20,
     "metadata": {},
     "output_type": "execute_result"
    }
   ],
   "source": [
    "## summary output for Q2a\n",
    "\n",
    "# use a group by and the agg function to get a group of summaries\n",
    "df_home=df_public.groupby(\"HomeRemote\").agg({'Respondent':'count','HoursPerWeek':'mean','CareerSatisfaction':'median','JobSatisfaction':'median'}).sort_values(by='HoursPerWeek',ascending=False).reset_index()\n",
    "df_home"
   ]
  },
  {
   "cell_type": "code",
   "execution_count": 21,
   "metadata": {},
   "outputs": [
    {
     "data": {
      "image/png": "[encoded data removed]",
      "text/plain": [
       "<Figure size 576x396 with 1 Axes>"
      ]
     },
     "metadata": {},
     "output_type": "display_data"
    }
   ],
   "source": [
    "# create a bar chart to show the home working types verseus hours pspent looking for a new job\n",
    "\n",
    "sns.barplot(x=df_home['HoursPerWeek'], y=df_home['HomeRemote'], color='skyblue')\n",
    "plt.title(\"Home or flexible working vs. hours spent looking for new job opportunities\", fontsize=14)\n",
    "plt.xlabel(\"Hours per week looking for new job opportunities\")\n",
    "plt.ylabel(\"Home or flexible working\")\n",
    "plt.show()\n"
   ]
  },
  {
   "cell_type": "code",
   "execution_count": 22,
   "metadata": {},
   "outputs": [],
   "source": [
    "# Evaluation\n",
    "\n",
    "## Q2b - summary and evaluation\n",
    "# When respondents are working from home are they happy or are they looking for new work?\n",
    "\n",
    "\n",
    "## Generally as people increase the amount of time working from home the more time is spend on activities \n",
    "## relating to finding new job opportunities - the mean response of those Never working from home was 3.29 hours \n",
    "## compared to 4.5 hours a week for those working from home all of the time\n",
    "## but this is not charecterised in either career or Job satisfaction \n",
    "## - median values for satisfaction is consistient across all home working groups"
   ]
  },
  {
   "cell_type": "code",
   "execution_count": 23,
   "metadata": {},
   "outputs": [],
   "source": [
    "# Deployment\n",
    "\n",
    "# Use the horizontal bar chart within the Blog post. Save this as a .png file for use within blog. \n",
    "# Quote statistics for job and career satisfaction within the Mediu post."
   ]
  },
  {
   "cell_type": "code",
   "execution_count": 24,
   "metadata": {},
   "outputs": [],
   "source": [
    "## Q3 - Is there is a relationship between attainment (measured through salary and Education) and HighestEducationParents\n",
    "\n",
    "# Business understanding - stated at top of notebook\n",
    "# Data understanding - stated at top of notebook\n",
    "\n",
    "    "
   ]
  },
  {
   "cell_type": "code",
   "execution_count": 25,
   "metadata": {},
   "outputs": [
    {
     "name": "stdout",
     "output_type": "stream",
     "text": [
      "16454\n",
      "0.3201665628891656\n",
      "A bachelor's degree                                    10175\n",
      "A master's degree                                       7561\n",
      "High school                                             5887\n",
      "Some college/university study, no bachelor's degree     4783\n",
      "A doctoral degree                                       2060\n",
      "A professional degree                                   1546\n",
      "Primary/elementary school                               1378\n",
      "I don't know/not sure                                    726\n",
      "I prefer not to answer                                   612\n",
      "No education                                             210\n",
      "Name: HighestEducationParents, dtype: int64\n",
      "Bachelor's degree                                                    21609\n",
      "Master's degree                                                      11141\n",
      "Some college/university study without earning a bachelor's degree     8129\n",
      "Secondary school                                                      5908\n",
      "Doctoral degree                                                       1308\n",
      "I prefer not to answer                                                1109\n",
      "Primary/elementary school                                             1047\n",
      "Professional degree                                                    715\n",
      "I never completed any formal education                                 426\n",
      "Name: FormalEducation, dtype: int64\n"
     ]
    }
   ],
   "source": [
    "# data preparation\n",
    "\n",
    "## how many missing values are there in this question that are missing?\n",
    "print(df_public['HighestEducationParents'].isna().sum())\n",
    "\n",
    "## there are 16,454 missing entries\n",
    "## meaning there are ~35k complete responses\n",
    "\n",
    "print(df_public['HighestEducationParents'].isna().sum()/len(df_public['HighestEducationParents']))\n",
    "## 32% is missing\n",
    "\n",
    "## what values does HighestEducationParents have? and how does this compare to FormalEducation?\n",
    "print(df_public['HighestEducationParents'].value_counts())\n",
    "\n",
    "print(df_public['FormalEducation'].value_counts())\n",
    "\n",
    "## Impute a 'Missing' level for both variables so we have a match for each level - create a function to do this\n",
    "addmiss=['FormalEducation','HighestEducationParents']\n",
    "\n",
    "for cols in addmiss:\n",
    "    df_public[cols] =df_public[cols].fillna(value='Missing')"
   ]
  },
  {
   "cell_type": "code",
   "execution_count": 26,
   "metadata": {},
   "outputs": [
    {
     "name": "stdout",
     "output_type": "stream",
     "text": [
      "0        No Higher Education\n",
      "1           Higher Education\n",
      "2           Higher Education\n",
      "3           Higher Education\n",
      "4    Missing or Not Answered\n",
      "Name: HighestEducationParents, dtype: object\n"
     ]
    }
   ],
   "source": [
    "# There are Two many levels to sumamrise in a table - we would lose interpretability \n",
    "# group levels together in to higher and lower - we lose deatil but increases interpretability\n",
    "\n",
    "# Ammend function provided by Udacity- Lesson 1, Data Science part 12\n",
    "# include education types in HighestEducationParents field and split into Higher and Lower\n",
    "\n",
    "\n",
    "def higher_ed(formal_ed_str):\n",
    "    '''\n",
    "    PURPOSE: The purpose of this function is to categorise education levels based on whether the reponse contains \n",
    "            a particular string\n",
    "    \n",
    "    INPUT\n",
    "        formal_ed_str - a string containing values from the education field to be searched for\n",
    "        \n",
    "    OUTPUT\n",
    "        return 'Higher Education' if the string is in \"A bachelor's degree\",\"A master's degree\", \"A doctoral degree\",\"A professional degree\",\"Bachelor's degree\",\"Master's degree\",\"Doctoral degree\", \"Professional degree\"\n",
    "    \n",
    "        return 'Missing' where there has been no resonse - this may be useful to compare  if differences are real\n",
    "    \n",
    "        return 'No Higher Education' otherwise\n",
    "    \n",
    "    '''\n",
    "    if formal_ed_str in (\"A bachelor's degree\",\"A master's degree\", \"A doctoral degree\",\"A professional degree\",\"Bachelor's degree\",\"Master's degree\",\"Doctoral degree\", \"Professional degree\"):\n",
    "        return 'Higher Education'\n",
    "    elif formal_ed_str in (\"High school\",\"Secondary school\",\"Some college/university study, no bachelor's degree\",\"Some college/university study without earning a bachelor's degree\",\"Primary/elementary school\",\"No education\",\"I never completed any formal education\"): \n",
    "        return 'No Higher Education'\n",
    "    else:    \n",
    "        return 'Missing or Not Answered'        \n",
    "    \n",
    "#print the first 5 rows of the data frame for the field HighestEducationParents to check that string has been added\n",
    "print(df_public[\"HighestEducationParents\"].apply(higher_ed)[:5]) \n",
    "\n",
    "# apply the function to the data, creating new columns whilst doing so \n",
    "df_public['Higher_ed_respondent'] = df_public[\"FormalEducation\"].apply(higher_ed)\n",
    "df_public['Higher_ed_parent'] = df_public[\"HighestEducationParents\"].apply(higher_ed)"
   ]
  },
  {
   "cell_type": "code",
   "execution_count": 27,
   "metadata": {},
   "outputs": [
    {
     "data": {
      "text/html": [
       "<div>\n",
       "<style scoped>\n",
       "    .dataframe tbody tr th:only-of-type {\n",
       "        vertical-align: middle;\n",
       "    }\n",
       "\n",
       "    .dataframe tbody tr th {\n",
       "        vertical-align: top;\n",
       "    }\n",
       "\n",
       "    .dataframe thead th {\n",
       "        text-align: right;\n",
       "    }\n",
       "</style>\n",
       "<table border=\"1\" class=\"dataframe\">\n",
       "  <thead>\n",
       "    <tr style=\"text-align: right;\">\n",
       "      <th>Higher_ed_respondent</th>\n",
       "      <th>Higher Education</th>\n",
       "      <th>Missing or Not Answered</th>\n",
       "      <th>No Higher Education</th>\n",
       "    </tr>\n",
       "    <tr>\n",
       "      <th>Higher_ed_parent</th>\n",
       "      <th></th>\n",
       "      <th></th>\n",
       "      <th></th>\n",
       "    </tr>\n",
       "  </thead>\n",
       "  <tbody>\n",
       "    <tr>\n",
       "      <th>Higher Education</th>\n",
       "      <td>16752</td>\n",
       "      <td>159</td>\n",
       "      <td>4431</td>\n",
       "    </tr>\n",
       "    <tr>\n",
       "      <th>Missing or Not Answered</th>\n",
       "      <td>11154</td>\n",
       "      <td>854</td>\n",
       "      <td>5784</td>\n",
       "    </tr>\n",
       "    <tr>\n",
       "      <th>No Higher Education</th>\n",
       "      <td>6867</td>\n",
       "      <td>96</td>\n",
       "      <td>5295</td>\n",
       "    </tr>\n",
       "  </tbody>\n",
       "</table>\n",
       "</div>"
      ],
      "text/plain": [
       "Higher_ed_respondent     Higher Education  Missing or Not Answered  \\\n",
       "Higher_ed_parent                                                     \n",
       "Higher Education                    16752                      159   \n",
       "Missing or Not Answered             11154                      854   \n",
       "No Higher Education                  6867                       96   \n",
       "\n",
       "Higher_ed_respondent     No Higher Education  \n",
       "Higher_ed_parent                              \n",
       "Higher Education                        4431  \n",
       "Missing or Not Answered                 5784  \n",
       "No Higher Education                     5295  "
      ]
     },
     "execution_count": 27,
     "metadata": {},
     "output_type": "execute_result"
    }
   ],
   "source": [
    "## can we create a heatmap showing relationship between HighestEducationParents and FormalEducation\n",
    "## we want to show which groups between the two variables match \n",
    "## we would need to pivot the table so that there is only FormalEducation and HighestEducationParents, \n",
    "## and we need counts of entries\n",
    "\n",
    "education=['Higher_ed_respondent','Higher_ed_parent']\n",
    "\n",
    "df_groupby=df_public.groupby(education)['Respondent'].count().reset_index()\n",
    "df_groupby.head(5)\n",
    "\n",
    "# we can flip this using a pivot table\n",
    "df_groupby2=pd.pivot_table(df_groupby,values='Respondent',index='Higher_ed_parent',columns='Higher_ed_respondent',aggfunc=np.sum)\n",
    "\n",
    "## check the data\n",
    "df_groupby2.head(5)\n"
   ]
  },
  {
   "cell_type": "code",
   "execution_count": 28,
   "metadata": {},
   "outputs": [
    {
     "data": {
      "text/html": [
       "<div>\n",
       "<style scoped>\n",
       "    .dataframe tbody tr th:only-of-type {\n",
       "        vertical-align: middle;\n",
       "    }\n",
       "\n",
       "    .dataframe tbody tr th {\n",
       "        vertical-align: top;\n",
       "    }\n",
       "\n",
       "    .dataframe thead th {\n",
       "        text-align: right;\n",
       "    }\n",
       "</style>\n",
       "<table border=\"1\" class=\"dataframe\">\n",
       "  <thead>\n",
       "    <tr style=\"text-align: right;\">\n",
       "      <th>Higher_ed_respondent</th>\n",
       "      <th>Higher Education</th>\n",
       "      <th>Missing or Not Answered</th>\n",
       "      <th>No Higher Education</th>\n",
       "      <th>HigherEdPer</th>\n",
       "      <th>NoHigherEdPer</th>\n",
       "    </tr>\n",
       "    <tr>\n",
       "      <th>Higher_ed_parent</th>\n",
       "      <th></th>\n",
       "      <th></th>\n",
       "      <th></th>\n",
       "      <th></th>\n",
       "      <th></th>\n",
       "    </tr>\n",
       "  </thead>\n",
       "  <tbody>\n",
       "    <tr>\n",
       "      <th>Higher Education</th>\n",
       "      <td>16752</td>\n",
       "      <td>159</td>\n",
       "      <td>4431</td>\n",
       "      <td>0.784931</td>\n",
       "      <td>0.207619</td>\n",
       "    </tr>\n",
       "    <tr>\n",
       "      <th>Missing or Not Answered</th>\n",
       "      <td>11154</td>\n",
       "      <td>854</td>\n",
       "      <td>5784</td>\n",
       "      <td>0.626911</td>\n",
       "      <td>0.325090</td>\n",
       "    </tr>\n",
       "    <tr>\n",
       "      <th>No Higher Education</th>\n",
       "      <td>6867</td>\n",
       "      <td>96</td>\n",
       "      <td>5295</td>\n",
       "      <td>0.560206</td>\n",
       "      <td>0.431963</td>\n",
       "    </tr>\n",
       "  </tbody>\n",
       "</table>\n",
       "</div>"
      ],
      "text/plain": [
       "Higher_ed_respondent     Higher Education  Missing or Not Answered  \\\n",
       "Higher_ed_parent                                                     \n",
       "Higher Education                    16752                      159   \n",
       "Missing or Not Answered             11154                      854   \n",
       "No Higher Education                  6867                       96   \n",
       "\n",
       "Higher_ed_respondent     No Higher Education  HigherEdPer  NoHigherEdPer  \n",
       "Higher_ed_parent                                                          \n",
       "Higher Education                        4431     0.784931       0.207619  \n",
       "Missing or Not Answered                 5784     0.626911       0.325090  \n",
       "No Higher Education                     5295     0.560206       0.431963  "
      ]
     },
     "execution_count": 28,
     "metadata": {},
     "output_type": "execute_result"
    },
    {
     "data": {
      "image/png": "[encoded data removed]",
      "text/plain": [
       "<Figure size 576x396 with 2 Axes>"
      ]
     },
     "metadata": {},
     "output_type": "display_data"
    }
   ],
   "source": [
    "# use seaborn for the heatmap\n",
    "sns.heatmap(df_groupby2,square=True,annot=True,fmt='d', cmap=\"YlGnBu\")\n",
    "plt.title(\"Parent Education vs. Respondent Education\")\n",
    "plt.ylabel(\"Higher Education: Parents\")\n",
    "plt.xlabel(\"Higher Education: Respondent\")\n",
    "\n",
    "# gain percentages for interpretation\n",
    "# row percentage - i.e if the parent has an education level what level does the respondent have\n",
    "df_groupby2['HigherEdPer']=df_groupby2['Higher Education']/(df_groupby2['Higher Education']+df_groupby2['No Higher Education']+df_groupby2['Missing or Not Answered'])\n",
    "df_groupby2['NoHigherEdPer']=df_groupby2['No Higher Education']/(df_groupby2['Higher Education']+df_groupby2['No Higher Education']+df_groupby2['Missing or Not Answered'])\n",
    "\n",
    "df_groupby2.head(5)\n"
   ]
  },
  {
   "cell_type": "code",
   "execution_count": 29,
   "metadata": {},
   "outputs": [],
   "source": [
    "# Evaluation\n",
    "\n",
    "## Q3a - summary and evaluation\n",
    "\n",
    "## We have found that generally if the parent has a high level of education then \n",
    "## it is likely the respondent will also have higher Education (78.4% vs. 20.7%)\n",
    "\n",
    "## The converse is not true however, where the parent has No Higher Education then the proportion of respondents\n",
    "## with and withouht higher education is closer (56.0% vs 43.1%) "
   ]
  },
  {
   "cell_type": "code",
   "execution_count": 30,
   "metadata": {},
   "outputs": [],
   "source": [
    "# Deployment\n",
    "\n",
    "# Save the heatmap as a .png file for use within the Medium blog post. Statistics on percentage of respondnets with\n",
    "# higher and lower education to be quoted within article"
   ]
  },
  {
   "cell_type": "code",
   "execution_count": 31,
   "metadata": {},
   "outputs": [
    {
     "name": "stdout",
     "output_type": "stream",
     "text": [
      "Higher_ed_parent\n",
      "Higher Education           59874.924701\n",
      "Missing or Not Answered    47037.627186\n",
      "No Higher Education        53145.089377\n",
      "Name: Salary, dtype: float64\n"
     ]
    },
    {
     "data": {
      "text/plain": [
       "Text(0, 0.5, 'Salary')"
      ]
     },
     "execution_count": 31,
     "metadata": {},
     "output_type": "execute_result"
    },
    {
     "data": {
      "image/png": "[encoded data removed]",
      "text/plain": [
       "<Figure size 576x396 with 1 Axes>"
      ]
     },
     "metadata": {},
     "output_type": "display_data"
    }
   ],
   "source": [
    "## Q3b - and does the HighestEducationParents relate to earned salary of the respondent?\n",
    "\n",
    "# Business understanding - stated at top of notebook\n",
    "# Data understanding - stated at top of notebook\n",
    "# Data Preparation - bar chart and mean only, no cleansing or imputation required\n",
    "\n",
    "parent_ed=df_public.groupby(['HighestEducationParents'])['Salary'].mean().sort_values()\n",
    "\n",
    "print(df_public.groupby(['Higher_ed_parent'])['Salary'].mean())\n",
    "\n",
    "## create an bar chart showing how this is represented\n",
    "parent_ed.plot(kind=\"bar\")\n",
    "plt.title(\"Highest Parent Education and Respondent Salary?\")\n",
    "plt.ylabel(\"Salary\")\n"
   ]
  },
  {
   "cell_type": "code",
   "execution_count": 32,
   "metadata": {},
   "outputs": [],
   "source": [
    "# Evaluation\n",
    "\n",
    "# Q3b - summary and evaluation\n",
    "\n",
    "# generally where the parent has a higher education then the respondent will have on average a higher salary compared to those \n",
    "# where their parent did not have a higher education. On average Salary of the respondent where the parent had a \n",
    "# higher education was 59,874, compared to 53,145 for those where the parent did not have a higher education"
   ]
  },
  {
   "cell_type": "code",
   "execution_count": 33,
   "metadata": {},
   "outputs": [],
   "source": [
    "# Deployment\n",
    "\n",
    "# for question 3b the results will be deployed on Medium post linked within the ReadMe file - specifically the bar chart of parent education level and \n",
    "# salary of the respondnet. Mean results quoted within post only. "
   ]
  }
 ],
 "metadata": {
  "kernelspec": {
   "display_name": "Python 3",
   "language": "python",
   "name": "python3"
  },
  "language_info": {
   "codemirror_mode": {
    "name": "ipython",
    "version": 3
   },
   "file_extension": ".py",
   "mimetype": "text/x-python",
   "name": "python",
   "nbconvert_exporter": "python",
   "pygments_lexer": "ipython3",
   "version": "3.8.5"
  }
 },
 "nbformat": 4,
 "nbformat_minor": 4
}
